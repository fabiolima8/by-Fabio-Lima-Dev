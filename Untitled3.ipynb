{
  "nbformat": 4,
  "nbformat_minor": 0,
  "metadata": {
    "colab": {
      "provenance": [],
      "authorship_tag": "ABX9TyMu60CTjy6az+6xpxkrePT9",
      "include_colab_link": true
    },
    "kernelspec": {
      "name": "python3",
      "display_name": "Python 3"
    },
    "language_info": {
      "name": "python"
    }
  },
  "cells": [
    {
      "cell_type": "markdown",
      "metadata": {
        "id": "view-in-github",
        "colab_type": "text"
      },
      "source": [
        "<a href=\"https://colab.research.google.com/github/fabiolima8/by-Fabio-Lima-Dev/blob/main/Untitled3.ipynb\" target=\"_parent\"><img src=\"https://colab.research.google.com/assets/colab-badge.svg\" alt=\"Open In Colab\"/></a>"
      ]
    },
    {
      "cell_type": "code",
      "source": [
        "nome = \"Humberto Delgado Martins\"\n",
        "empresa = 'Fiap'\n",
        "qt_funcionarios = 500\n",
        "media_mensalidade = 856.50\n",
        "print(nome, 'trabalha na empresa ', empresa)\n",
        "print('Possui: ', qt_funcionarios,'funcionários')\n",
        "print('A média de mensalidade é de: ', media_mensalidade, 'reais')"
      ],
      "metadata": {
        "colab": {
          "base_uri": "https://localhost:8080/"
        },
        "id": "8lvkMPgqkTH0",
        "outputId": "129b39f6-5439-4ad4-ab36-2de4e26b2ff0"
      },
      "execution_count": null,
      "outputs": [
        {
          "output_type": "stream",
          "name": "stdout",
          "text": [
            "Humberto Delgado Martins trabalha na empresa  Fiap\n",
            "Possui:  500 funcionários\n",
            "A média de mensalidade é de:  856.5 reais\n"
          ]
        }
      ]
    },
    {
      "cell_type": "code",
      "source": [
        "nome = input('Digite o nome de um funcionário: ')\n",
        "empresa= input('Digite o nome da empresa: ')\n",
        "qt_funcionarios = int(input('Digite o número de funcionários: '))\n",
        "media_mensalidade = float(input('Digite a média da mensalidade: '))\n",
        "print()\n",
        "print(nome, 'trabalha na empresa', empresa,)\n",
        "print('Essa empresa possui', qt_funcionarios, 'funcionários.')\n",
        "print('A média de mensalidade é de: ', media_mensalidade, 'reais.')\n",
        "print('********Verifique os tipos de dados abaixo********')\n",
        "print('O tipo de variável de nome é ', type(nome))\n",
        "print('O tipo de variável dde empresa é ', type(empresa))\n",
        "print('O tipo de variável de qt_funcionarios é ', type(qt_funcionarios))\n",
        "print('O tipo de variável de media_mensalidade é ',type(media_mensalidade))"
      ],
      "metadata": {
        "colab": {
          "base_uri": "https://localhost:8080/"
        },
        "id": "Kgn3RW6Cnkez",
        "outputId": "58cdc379-6474-412f-aeb1-12ba8c251786"
      },
      "execution_count": null,
      "outputs": [
        {
          "output_type": "stream",
          "name": "stdout",
          "text": [
            "Digite o nome de um funcionário: Fabio\n",
            "Digite o nome da empresa: Fiap\n",
            "Digite o número de funcionários: 100\n",
            "Digite a média da mensalidade: 1400\n",
            "\n",
            "Fabio trabalha na empresa Fiap\n",
            "Essa empresa possui 100 funcionários.\n",
            "A média de mensalidade é de:  1400.0 reais.\n",
            "********Verifique os tipos de dados abaixo********\n",
            "O tipo de variável de nome é  <class 'str'>\n",
            "O tipo de variável dde empresa é  <class 'str'>\n",
            "O tipo de variável de qt_funcionarios é  <class 'int'>\n",
            "O tipo de variável de media_mensalidade é  <class 'float'>\n"
          ]
        }
      ]
    },
    {
      "cell_type": "code",
      "source": [
        "responsavel = input('Digite o nome do responsável: ')\n",
        "funcionario = input('Digite o nome do funcionario: ')\n",
        "evento = input('Escreva o nome do evento: ')\n",
        "valor_entrada = input('Digite o valor gasto com a entrada: ')\n",
        "print(f'Declaro para o senhor {responsavel} que o senhor {funcionario} esteve presente no evento {evento} \\nHe gastou o valor de {valor_entrada} reais com a entrada')"
      ],
      "metadata": {
        "colab": {
          "base_uri": "https://localhost:8080/"
        },
        "id": "QrNaqRiurV-P",
        "outputId": "c661facd-943a-4f94-bd9b-5edf936b2dbe"
      },
      "execution_count": null,
      "outputs": [
        {
          "output_type": "stream",
          "name": "stdout",
          "text": [
            "Digite o nome do responsável: Fabio\n",
            "Digite o nome do funcionario: enrique\n",
            "Escreva o nome do evento: Fashion\n",
            "Digite o valor gasto com a entrada: 20\n",
            "Declaro para o senhor Fabio que o senhor enrique esteve presente no evento Fashion \n",
            "e gastou o valor de 20 reais com a entrada\n"
          ]
        }
      ]
    },
    {
      "cell_type": "code",
      "source": [
        "nota = 5\n",
        "if nota >= 6:\n",
        "  print('Parabéns!')\n",
        "elif nota < 6:\n",
        "    print('Recuperação')\n"
      ],
      "metadata": {
        "colab": {
          "base_uri": "https://localhost:8080/"
        },
        "id": "lcjkJB0Ztm90",
        "outputId": "a95c3735-665b-4a6d-99a5-32427a59b1d9"
      },
      "execution_count": null,
      "outputs": [
        {
          "output_type": "stream",
          "name": "stdout",
          "text": [
            "Recuperação\n"
          ]
        }
      ]
    },
    {
      "cell_type": "code",
      "source": [
        "#Decisões\n",
        "nome = input('Digite um nome: ')\n",
        "idade = int(input('Digite sua idade: '))\n",
        "prioridade = 'Não'\n",
        "if idade >= 65:\n",
        "  prioridade = 'Sim'\n",
        "print(f'O paciente {nome} possui atendimento de prioridade? {prioridade}')"
      ],
      "metadata": {
        "colab": {
          "base_uri": "https://localhost:8080/"
        },
        "id": "QBLjru65utbk",
        "outputId": "ed954964-a7a8-419c-cd03-3fec35f14703"
      },
      "execution_count": null,
      "outputs": [
        {
          "output_type": "stream",
          "name": "stdout",
          "text": [
            "Digite um nome: Fabio\n",
            "Digite sua idade: 43\n",
            "O paciente Fabio possui atendimento de prioridade? Não\n"
          ]
        }
      ]
    },
    {
      "cell_type": "code",
      "source": [
        "#Decisões compostas\n",
        "nome = input('Digite o nome: ')\n",
        "idade = int(input(\"Digite a idade: \"))\n",
        "if idade >= 65:\n",
        "  print(f'O paciente {nome} possui atendimento de prioridade!')\n",
        "else:\n",
        "  print(f'O paciente {nome} não possui atendimento de prioridade!')"
      ],
      "metadata": {
        "colab": {
          "base_uri": "https://localhost:8080/"
        },
        "id": "CF9mDlPovths",
        "outputId": "e941ece4-797f-40ce-b084-0b8ec8d5d582"
      },
      "execution_count": null,
      "outputs": [
        {
          "output_type": "stream",
          "name": "stdout",
          "text": [
            "Digite o nome: Fabio\n",
            "Digite a idade: 68\n",
            "O paciente Fabio possui atendimento de prioridade!\n"
          ]
        }
      ]
    },
    {
      "cell_type": "code",
      "source": [
        "nome = input('Digite o nome: ')\n",
        "idade = int(input(\"Digite a idade: \"))\n",
        "doenca_infectocontagiosa = input('Suspeita de doença infecto-contagiosa? ').upper()\n",
        "if idade >= 65:\n",
        "  print(f'O paciente {nome} possui atendimento de prioridade!')\n",
        "elif doenca_infectocontagiosa == 'SIM':\n",
        "  print(f'O paciente {nome} deve ser encaminhado para a sala de espera reservada.')\n",
        "else:\n",
        "  print(f'O paciente {nome} não possui atendimento de prioridade e pode aguardar na sala comum.')"
      ],
      "metadata": {
        "colab": {
          "base_uri": "https://localhost:8080/"
        },
        "id": "8bXR2bH_wo6Z",
        "outputId": "55c92428-9f0b-4fd3-c950-bea5a69af5ca"
      },
      "execution_count": null,
      "outputs": [
        {
          "output_type": "stream",
          "name": "stdout",
          "text": [
            "Digite o nome: Fabio\n",
            "Digite a idade: 40\n",
            "Suspeita de doença infecto-contagiosa?sim\n",
            "O paciente Fabio deve ser encaminhado para a sala de espera reservada.\n"
          ]
        }
      ]
    },
    {
      "cell_type": "code",
      "source": [
        "nome = input('Digite o nome: ')\n",
        "idade = int(input(\"Digite a idade: \"))\n",
        "doenca_infectocontagiosa = input('Suspeita de doença infecto-contagiosa? ').upper()\n",
        "if idade >= 65 and doenca_infectocontagiosa == 'SIM':\n",
        "  print('O paciente será encaminhado para a sala AMARELA - COM prioridade')\n",
        "elif idade < 65 and doenca_infectocontagiosa == 'SIM':\n",
        "  print('O paciente será encaminhado para a sala AMARELA - SEM prioridade')\n",
        "elif idade >= 65 and doenca_infectocontagiosa == 'NÂO':\n",
        "  print('O paciente será encaminhado para a sala BRANCA - SEM prioridade')\n",
        "elif idade < 65 and doenca_infectocontagiosa == \"NÃO\":\n",
        "  print('O paciente será direcionado para a sala BRANCA - SEM prioridade ')\n",
        "else:\n",
        "  print('Responda a suspeita de doença infecto-contagiosa com SIm ou NÃO')\n"
      ],
      "metadata": {
        "colab": {
          "base_uri": "https://localhost:8080/"
        },
        "id": "w-KVy5ePzcsY",
        "outputId": "ba2bc059-df9e-4662-bf7a-55dd9db88215"
      },
      "execution_count": null,
      "outputs": [
        {
          "output_type": "stream",
          "name": "stdout",
          "text": [
            "Digite o nome: Fabio\n",
            "Digite a idade: 778\n",
            "Suspeita de doença infecto-contagiosa? sim\n",
            "O paciente será encaminhado para a sala AMARELA - COM prioridade\n"
          ]
        }
      ]
    },
    {
      "cell_type": "code",
      "source": [
        "#Decisões encadeadas\n",
        "nome = input('Digite o nome: ')\n",
        "idade = int(input(\"Digite a idade: \"))\n",
        "doenca_infectocontagiosa = input('Suspeita de doença infecto-contagiosa? ').upper()\n",
        "if idade >= 65:\n",
        "  print('Paciente COM prioridade')\n",
        "  if doenca_infectocontagiosa == \"SIM\":\n",
        "    print('Encaminhe o paciente para  a sala AMARELA')\n",
        "  elif doenca_infectocontagiosa == \"NÃo\":\n",
        "    print('Encaminhe o paciente para a sala BRANCA')\n",
        "  else:\n",
        "    print('Responda a suspeita de doença infectocontagiosa com SIM ou NÃO')\n",
        "else:\n",
        "  print('Paciente SEM prioridade')\n",
        "  if doenca_infectocontagiosa == 'SIM':\n",
        "    print('Encaminhe o paciente para a sala AMARELA')\n",
        "  elif doenca_infectocontagiosa == 'NÃO':\n",
        "    print('Encaminhe o paciente para a sala BRANCA')\n",
        "  else:\n",
        "    print('Responda a suspeita de doenca infectocontagiosa com SIM ou NÃO')\n",
        "\n"
      ],
      "metadata": {
        "id": "Ay9DQqM22FJe",
        "colab": {
          "base_uri": "https://localhost:8080/"
        },
        "outputId": "0f270d7f-fe7c-43ad-bb1a-79b3a6a0d789"
      },
      "execution_count": null,
      "outputs": [
        {
          "output_type": "stream",
          "name": "stdout",
          "text": [
            "Digite o nome: Fabio\n",
            "Digite a idade: 66\n",
            "Suspeita de doença infecto-contagiosa? SIM\n",
            "Paciente COM prioridade\n",
            "Encaminhe o paciente para  a sala AMARELA\n"
          ]
        }
      ]
    },
    {
      "cell_type": "code",
      "source": [
        "#Decisão encadeada 2\n",
        "nome = input('Digite o nome: ')\n",
        "idade = int(input(\"Digite a idade: \"))\n",
        "doenca_infectocontagiosa = input('Suspeita de doença infecto-contagiosa? ').upper()\n",
        "\n",
        "#Primeiro problema a ser resolvido:\n",
        "if doenca_infectocontagiosa == 'SIM':\n",
        "  print('Encaminhe o paciente para a sala AMARELA')\n",
        "elif doenca_infectocontagiosa == 'NÃO':\n",
        "  print('Encaminhe o paciente para a sala BRANCA')\n",
        "else:\n",
        "  print('Responda a suspeita de doença infectocontagiosa com SIM ou NÃO')\n",
        "\n",
        "#Segundo problema a ser resolvido:\n",
        "if idade >= 65:\n",
        "  print('Paciente com prioridade')\n",
        "else:\n",
        "  genero = input('Digite o gênero do paciente: ').upper()\n",
        "  if genero == 'FEMININO'and idade > 10:\n",
        "    gravidez = input('A paciente está grávida? ').upper()\n",
        "    if gravidez == 'SIM':\n",
        "      print('Paciente COM prioridade')\n",
        "    else:\n",
        "      print('Paciente SEM prioridade')\n",
        "  print('Paciente SEM prioridade')    "
      ],
      "metadata": {
        "colab": {
          "base_uri": "https://localhost:8080/"
        },
        "id": "fFJKSUaBl_VB",
        "outputId": "3707b434-e2fe-4db9-c234-47fced722218"
      },
      "execution_count": null,
      "outputs": [
        {
          "output_type": "stream",
          "name": "stdout",
          "text": [
            "Digite o nome: Fabio\n",
            "Digite a idade: 66\n",
            "Suspeita de doença infecto-contagiosa? SIM\n",
            "Encaminhe o paciente para a sala AMARELA\n",
            "Paciente com prioridade\n"
          ]
        }
      ]
    },
    {
      "cell_type": "code",
      "source": [
        "nivel = input('Digite o nível de acesso: ').upper()\n",
        "if nivel == 'ADM' or nivel == 'USR':\n",
        "  genero = input('Digite o seu gênero: ').upper()\n",
        "  if nivel == 'ADM':\n",
        "    if genero == 'FEMININO':\n",
        "      print('Olá administradora')\n",
        "    else:\n",
        "      print('Olá administrador')\n",
        "  else:\n",
        "    if genero == 'FEMININO':\n",
        "      print('Olá usuária')\n",
        "    else:\n",
        "      print('Olá usuário')\n",
        "elif nivel == 'GUEST':\n",
        "  print('Olá visitante')\n",
        "else:\n",
        "  print('Olá desconhecido (a)')\n"
      ],
      "metadata": {
        "colab": {
          "base_uri": "https://localhost:8080/"
        },
        "id": "iVrCoqkboMPv",
        "outputId": "e76aa7ad-1802-4d98-81fd-f8d8558e3886"
      },
      "execution_count": null,
      "outputs": [
        {
          "output_type": "stream",
          "name": "stdout",
          "text": [
            "Digite o nível de acesso: ADM\n",
            "Digite o seu gênero: mASCULINO\n",
            "Olá administrador\n"
          ]
        }
      ]
    },
    {
      "cell_type": "code",
      "source": [
        "#Laços de repetição:\n",
        "numero = int(input('Digite um número: '))\n",
        "while numero < 100:\n",
        "  print('\\t' + str(numero))\n",
        "  numero = numero + 1\n",
        "print('Laço encerrado...')"
      ],
      "metadata": {
        "colab": {
          "base_uri": "https://localhost:8080/"
        },
        "id": "I4t9msTYqkRL",
        "outputId": "2dd9eeca-4fab-40d1-b632-979b5d9b5be3"
      },
      "execution_count": null,
      "outputs": [
        {
          "output_type": "stream",
          "name": "stdout",
          "text": [
            "Digite um número: 98\n",
            "\t98\n",
            "\t99\n",
            "Laço encerrado...\n"
          ]
        }
      ]
    },
    {
      "cell_type": "code",
      "source": [
        "nome =  input('Digite o nome: ')\n",
        "idade = int(input('Digite a idade: '))\n",
        "doenca_infectocontagiosa = input('Suspeita de doença infectocontagiosa? ').upper()\n",
        "#Primeiro problema a ser resolvido\n",
        "while doenca_infectocontagiosa != 'SIM' and doenca_infectocontagiosa != 'NÃO':\n",
        "  print('Digite SIM ou NÃO')\n",
        "  doenca_infectocontagiosa = input('Suspeito de doença infectocontagiosa? ').upper()\n",
        "\n",
        "if doenca_infectocontagiosa == \"SIM\":\n",
        "  print('Encaminhe o paciente para a sala amarela')\n",
        "else:\n",
        "  print('Encaminhe o paciente para a sala branca')\n",
        "\n",
        "#Segundo problema a ser resolvido\n",
        "if idade >= 65:\n",
        "  print('Paciente COM prioridade')\n",
        "else:\n",
        "  genero = input('Digite gênero do paciente: ').upper()\n",
        "  if genero == 'FEMININO' and idade > 10:\n",
        "    gravidez = input('A paciente está grávida? ').upper()\n",
        "    if gravidez == 'SIM':\n",
        "      print('Paciente COM prioridade')\n",
        "    else:\n",
        "      print('Paciente SEM prioridade')\n",
        "  else:\n",
        "    print('Paciente SEM prioridade')  "
      ],
      "metadata": {
        "colab": {
          "base_uri": "https://localhost:8080/"
        },
        "id": "vbQmBUZQ3MAw",
        "outputId": "d6a7645c-72bf-4d55-93e4-a1b240bf21fd"
      },
      "execution_count": null,
      "outputs": [
        {
          "output_type": "stream",
          "name": "stdout",
          "text": [
            "Digite o nome: Fabio\n",
            "Digite a idade: 45\n",
            "Suspeita de doença infectocontagiosa? SIM\n",
            "Encaminhe o paciente para a sala amarela\n",
            "Digite gênero do paciente: MAsculino\n",
            "Paciente SEM prioridade\n"
          ]
        }
      ]
    },
    {
      "cell_type": "code",
      "source": [
        "#Comando for\n",
        "for numero in range(2, int(input('Digite o número para determinar o fim: ')), 2):\n",
        "  print('\\t' + str(numero))\n"
      ],
      "metadata": {
        "colab": {
          "base_uri": "https://localhost:8080/"
        },
        "id": "bBz0letlxmaL",
        "outputId": "b1614046-b410-4212-c539-9e185cd778f3"
      },
      "execution_count": null,
      "outputs": [
        {
          "output_type": "stream",
          "name": "stdout",
          "text": [
            "Digite o número para determinar o fim: 10\n",
            "\t2\n",
            "\t4\n",
            "\t6\n",
            "\t8\n"
          ]
        }
      ]
    },
    {
      "cell_type": "code",
      "source": [
        "tabuada = int(input('Digite o número para exibir a tabuada: '))\n",
        "print(\"Tabuada do número \", tabuada)\n",
        "for valor in range(1, 11, 1):\n",
        "  print(str(tabuada) + '+' + str(valor) + '=' + str(tabuada + valor))"
      ],
      "metadata": {
        "colab": {
          "base_uri": "https://localhost:8080/"
        },
        "id": "UVxwawgz0DWR",
        "outputId": "366dbd1b-ae93-4c8b-9be3-6f9b231c06ae"
      },
      "execution_count": null,
      "outputs": [
        {
          "output_type": "stream",
          "name": "stdout",
          "text": [
            "Digite o número para exibir a tabuada: 1\n",
            "Tabuada do número  1\n",
            "1+1=2\n",
            "1+2=3\n",
            "1+3=4\n",
            "1+4=5\n",
            "1+5=6\n",
            "1+6=7\n",
            "1+7=8\n",
            "1+8=9\n",
            "1+9=10\n",
            "1+10=11\n"
          ]
        }
      ]
    },
    {
      "cell_type": "code",
      "source": [
        "numero = int(input('Digite o número para exibir a tabuada: '))\n",
        "print('Tabuada do número ', numero)\n",
        "for i in range(1, 11, 1):\n",
        "  print(f'{numero} + {i} = {numero + i}')"
      ],
      "metadata": {
        "colab": {
          "base_uri": "https://localhost:8080/"
        },
        "id": "aLLAVHKi3v4E",
        "outputId": "ba738ca8-c72b-4df1-a33e-7566565f456b"
      },
      "execution_count": null,
      "outputs": [
        {
          "output_type": "stream",
          "name": "stdout",
          "text": [
            "Digite o número para exibir a tabuada: 1\n",
            "Tabuada do número  1\n",
            "1 + 1 = 2\n",
            "1 + 2 = 3\n",
            "1 + 3 = 4\n",
            "1 + 4 = 5\n",
            "1 + 5 = 6\n",
            "1 + 6 = 7\n",
            "1 + 7 = 8\n",
            "1 + 8 = 9\n",
            "1 + 9 = 10\n",
            "1 + 10 = 11\n"
          ]
        }
      ]
    },
    {
      "cell_type": "code",
      "source": [
        "#Lista preenchida estaticamente\n",
        "lista_estatica = ['xpto', True]\n",
        "\n",
        "#lista preenchida dinamicamente\n",
        "lista_dinamica = [input('Digite o usuário: '), bool int(input('Está logado? '))]\n",
        "\n",
        "#lista vazia\n",
        "\n",
        "lista = []\n",
        "\n",
        "\n",
        "\n"
      ],
      "metadata": {
        "id": "3PHaal427-6h"
      },
      "execution_count": null,
      "outputs": []
    },
    {
      "cell_type": "code",
      "source": [
        "#Listas e funções\n",
        "inventario = []\n",
        "resposta =\"S\"\n",
        "while resposta == 'S':\n",
        "  inventario.append(input(\"Equipamento: \"))\n",
        "  inventario.append(input(\"Valor: \"))\n",
        "  inventario.append(input(\"Número serial: \"))\n",
        "  inventario.append(input(\"Departamento: \"))\n",
        "  resposta = input('Digite \\\"S\\\" para continuar: ').upper()\n",
        "  for i in inventario:\n",
        "    print(i)"
      ],
      "metadata": {
        "colab": {
          "base_uri": "https://localhost:8080/"
        },
        "id": "6VkSojJx_b5n",
        "outputId": "94741966-fd99-430e-80b4-27f229f48a18"
      },
      "execution_count": null,
      "outputs": [
        {
          "output_type": "stream",
          "name": "stdout",
          "text": [
            "Equipamento: Radio\n",
            "Valor: 1000\n",
            "Número serial: 454545\n",
            "Departamento: Recepção\n",
            "Digite \"S\" para continuar: n\n",
            "Radio\n",
            "1000\n",
            "454545\n",
            "Recepção\n"
          ]
        }
      ]
    },
    {
      "cell_type": "code",
      "source": [
        "equipamentos = []\n",
        "valores = []\n",
        "seriais= []\n",
        "departamentos = []\n",
        "resposta = 'S'\n",
        "while resposta == 'S':\n",
        "  equipamentos.append(input(\"Equipamento: \"))\n",
        "  valores.append(input(\"Valores: \"))\n",
        "  seriais.append(input(\"Seriais: \"))\n",
        "  departamentos.append(input(\"Departamentos: \"))\n",
        "  resposta = input('Digite \\\"S\\\" para continuar: ').upper()\n",
        "for equipamento in equipamentos:\n",
        "     print(\"Equipamento: \",equipamento )"
      ],
      "metadata": {
        "colab": {
          "base_uri": "https://localhost:8080/"
        },
        "id": "y2t0l3dvA2ys",
        "outputId": "61fe2219-b2f0-4fba-e921-157d37dad0d4"
      },
      "execution_count": null,
      "outputs": [
        {
          "output_type": "stream",
          "name": "stdout",
          "text": [
            "Equipamento: Máquina\n",
            "Valores: 1000\n",
            "Seriais: 454545\n",
            "Departamentos: Principal\n",
            "Digite \"S\" para continuar: n\n",
            "Equipamento:  Máquina\n"
          ]
        }
      ]
    },
    {
      "cell_type": "code",
      "source": [
        "#Listas, funções e uso de índices\n",
        "equipamentos = []\n",
        "valores = []\n",
        "seriais= []\n",
        "departamentos = []\n",
        "resposta = 'S'\n",
        "while resposta == 'S':\n",
        "  equipamentos.append(input(\"Equipamento: \"))\n",
        "  valores.append(int(input(\"Valores: \")))\n",
        "  seriais.append(input(\"Seriais: \"))\n",
        "  departamentos.append(input(\"Departamentos: \"))\n",
        "  resposta = input('Digite \\\"S\\\" para continuar: ').upper()\n",
        "  \n",
        "  for indice in range(0, len(equipamentos)):\n",
        "    print('\\nEquipamento..:',(indice + 1))\n",
        "    print('Nome .........:', equipamentos[indice])\n",
        "    print('Valor .........:', valores[indice])\n",
        "    print('Departamento .........:', departamentos[indice])\n"
      ],
      "metadata": {
        "id": "3aEe3OcWC6Eq",
        "outputId": "18b8de8e-ac96-455f-9d7b-51f515faceb8",
        "colab": {
          "base_uri": "https://localhost:8080/"
        }
      },
      "execution_count": null,
      "outputs": [
        {
          "output_type": "stream",
          "name": "stdout",
          "text": [
            "Equipamento: Radio\n",
            "Valores: 10000\n",
            "Seriais: 121212\n",
            "Departamentos: Central\n",
            "Digite \"S\" para continuar: n\n",
            "\n",
            "Equipamento..: 1\n",
            "Nome .........: Radio\n",
            "Valor .........: 10000\n",
            "Departamento .........: Central\n"
          ]
        }
      ]
    },
    {
      "cell_type": "code",
      "source": [
        "busca = input('\\nDigite o nome do equipamento que deseja buscar: ')\n",
        "for indice in range(0, len(equipamentos)):\n",
        "  if busca == equipamentos[indice]:\n",
        "    print('Valor..:', valores[indice])\n",
        "    print('Serial..:', seriais[indice])"
      ],
      "metadata": {
        "id": "G4wsv1myXUIR",
        "outputId": "9bab58e8-3800-4a87-9b75-ee7ffeeeb460",
        "colab": {
          "base_uri": "https://localhost:8080/"
        }
      },
      "execution_count": null,
      "outputs": [
        {
          "output_type": "stream",
          "name": "stdout",
          "text": [
            "\n",
            "Digite o nome do equipamento que deseja buscar: Radio\n",
            "Valor..: 1000\n",
            "Serial..: 12345\n"
          ]
        }
      ]
    },
    {
      "cell_type": "code",
      "source": [
        "'''Situação 1: todos os equipamentos “impressora” receberão uma \n",
        "depreciação (desvalorização após certo período) de 10%. Monte o código \n",
        "que seria responsável por alterar o valor de todos os equipamentos \n",
        "“impressora'''\n",
        "depreciacao = input('\\nDigite o nome do equipamento que será depreciado: ')\n",
        "for indice in range(0, len(equipamentos)):\n",
        "  if depreciacao == equipamentos[indice]:\n",
        "    print('Valor antigo: ', valores[indice])\n",
        "    valores[indice] = valores[indice] * 0.9\n",
        "    print('Novo valor: ', valores[indice])"
      ],
      "metadata": {
        "id": "QKCqvp9JZ8Aj",
        "outputId": "ef1f1940-0912-402f-dc55-a01ac0916cdb",
        "colab": {
          "base_uri": "https://localhost:8080/"
        }
      },
      "execution_count": null,
      "outputs": [
        {
          "output_type": "stream",
          "name": "stdout",
          "text": [
            "\n",
            "Digite o nome do equipamento que será depreciado: Radio\n",
            "Valor antigo:  1000\n",
            "Novo valor:  900.0\n"
          ]
        }
      ]
    },
    {
      "cell_type": "code",
      "source": [
        "'''Situação 2: um equipamento com um determinado número serial foi \n",
        "danificado e será descartado. Precisamos eliminar esse equipamento.\n",
        "Dica: para eliminar um item de uma lista, você utilizará o comando “del”.\n",
        "Exemplo: del lista[<indice>]'''\n",
        "serial = int(input('\\nDigite o serial do equipamento que será excluído: '))\n",
        "for indice in range(0, len(departamentos)):\n",
        "  if seriais[indice] == serial:\n",
        "    del departamentos[indice]\n",
        "    del equipamentos[indice]\n",
        "    del seriais[indice]\n",
        "    break\n",
        "\n",
        "for indice in range(0, len(equipamentos)):\n",
        "  print('\\nEquipamento..:', (indice + 1))\n",
        "  print('Nome.........:', equipamentos[indice])\n",
        "  print('Valor........:', valores[indice])\n",
        "  print('Serial.......:', seriais[indice])\n",
        "  print('Departamento.........:', departamentos[indice])\n",
        "  \n"
      ],
      "metadata": {
        "id": "lWlh2HDScsmY",
        "outputId": "4e09b5f9-0d7b-431d-a1fa-5a134885ecd8",
        "colab": {
          "base_uri": "https://localhost:8080/"
        }
      },
      "execution_count": null,
      "outputs": [
        {
          "output_type": "stream",
          "name": "stdout",
          "text": [
            "\n",
            "Digite o serial do equipamento que será excluído: 12345\n",
            "\n",
            "Equipamento..: 1\n",
            "Nome.........: Radio\n",
            "Valor........: 10000\n",
            "Serial.......: 121212\n",
            "Departamento.........: Central\n"
          ]
        }
      ]
    },
    {
      "cell_type": "code",
      "source": [
        "#Lista dentro de lista\n",
        "inventario = []\n",
        "resposta = 'S'\n",
        "while resposta  == \"S\":\n",
        "  equipamento = [input('Equipamento: ')],\n",
        "  float(input('Valor: ')),\n",
        "  int(input('Número Serial: ')),\n",
        "  input('Departamento: ')]\n",
        "  inventario.append(equipamento)\n",
        "  resposta = input('Digite\\'s\\' para continuar: ').upper()\n",
        "\n",
        "for elemento in inventario:\n",
        "  print('Nome................:', elemento[0])\n",
        "  print('Valor...............:', elemento[1])# ..................erro?\n",
        "  print('Serial..............:', elemento[2])\n",
        "  print('Departamento........:', elemento[3])\n",
        "\n",
        "busca = input('\\nDigite o nome do equipamento que deseja buscar: ')\n",
        "for elemento in inventario:\n",
        "    if busca  == elemento[0]:\n",
        "      print('Valor..: ', elemento [1])\n",
        "      print('Serial..:', elemento[2])\n",
        "\n",
        "depreciacao == input('\\nDigite o nome do equipamento que será depreciado: ')\n",
        "for elemento in inventario:\n",
        "  if depreciacao == elemento[0]:\n",
        "    print('Valor antigo:', elemento[1])\n",
        "    elemento[1] = elemento[1] * 0.9\n",
        "    print('Novo valor: ', elemento[1])\n",
        "\n",
        "serial == int(input('\\nDigite o serial do equipamento que será excluído: '))\n",
        "for elemento in inventario:\n",
        "  if elemento[2] == serial:\n",
        "    inventario.remove(elemento)\n",
        "\n",
        "for elemento in inventario:\n",
        "  print('Nome.............: ', elemento[0])\n",
        "  print('Valor............: ', elemento[1])\n",
        "  print('Serial...........: ', elemento[2])\n",
        "  print('Departamento.....: ', elemento[3])\n"
      ],
      "metadata": {
        "id": "IKolO5Reffqf"
      },
      "execution_count": null,
      "outputs": []
    },
    {
      "cell_type": "code",
      "source": [
        "#Funções para lista numérica\n",
        "valores = []\n",
        "for elemento in inventario:\n",
        "  valores.append(elemento[1])\n",
        "  if len(valores) > 0:\n",
        "    print('O equipamento mais caro custa: ', max(valores))\n",
        "    print('O equipamento mais barato custa: ', min(valores))\n",
        "    print('O total de equipamentos é de: ', sum(valores))\n"
      ],
      "metadata": {
        "id": "7uMzp6rsNbWt"
      },
      "execution_count": null,
      "outputs": []
    },
    {
      "cell_type": "code",
      "source": [
        "#Funções separadas por comentário\n",
        "inventario = []\n",
        "resposta = \"S\"\n",
        "#Adicionar item no inventário\n",
        "while resposta == \"S\":\n",
        "  equipamento = [input('Equipamento: '),\n",
        "                 float(input('Valor: ')), \n",
        "                 int(input('Número Serial: ')),\n",
        "                 input(\"Departamento: \")]\n",
        "  inventario.append(equipamento)\n",
        "  resposta = input('Digite \\'S\\' para continuar: ').upper()\n",
        "\n",
        "#exibir dados do inventario\n",
        "for elemento in inventario:\n",
        "  print('Nome................: ', elemento[0])\n",
        "  print('Valor...............: ', elemento[1])\n",
        "  print('Serial..............: ', elemento[2])\n",
        "  print('Departamento........: ', elemento[3])\n",
        "\n",
        "#Localizar um item no inventário\n",
        "\n",
        "busca = input('\\nDigite o nome do equipamento que deseja buscar: ')\n",
        "for elemento in inventario:\n",
        "  if busca == elemento[0]:\n",
        "    print('Valor..:', elemento[1])\n",
        "    print('Serial..:', elemento[2])\n",
        "\n",
        "#Depreciar itens no inventário\n",
        "depreciacao = input('\\nDigite o nome do equipamento que será depreciado: ')\n",
        "for elemento in inventario:\n",
        "  if depreciacao == elemento[0]:\n",
        "    print('Valor antigo: ', elemento[1])\n",
        "    elemento1  = elemento[1] * 0.9\n",
        "    print('Novo valor: ', elemento[1])\n",
        "\n",
        "#Excluir item no inventário\n",
        "serial = int(input('\\nDigite o serial do equipamento que será excluido: '))\n",
        "for elemento in inventario:\n",
        "  if elemento[2] == serial:\n",
        "    inventario.remove(elemento)\n",
        "#Exibir dados do inventário\n",
        "for elemento in inventario:\n",
        "  print('Nome..........: ', elemento[0])\n",
        "  print('Valor.........: ', elemento[1])\n",
        "  print('Serial........: ', elemento[2])\n",
        "  print('Departamento..: ', elemento[3])\n",
        "\n",
        "#Resumo de valores do inventário\n",
        "valores = []\n",
        "for elemento in  inventario:\n",
        "  valores.append(elemento[1])\n",
        "  if len(valores) > 0:\n",
        "    print('O equipamento mais caro custa: ', max(valores))\n",
        "    print('O equipamento mais barato custa: ', min(valores))\n",
        "    print('O total de equipamentos é de: ', sum(valores))\n"
      ],
      "metadata": {
        "id": "cwbgcQRIL4X_"
      },
      "execution_count": null,
      "outputs": []
    },
    {
      "cell_type": "code",
      "source": [
        "#Função para preencher o inventário\n",
        "def preencher_inventario(lista):\n",
        "  resp = 'S'\n",
        "  while resp == \"S\":\n",
        "    equipamento = [Input('Equipamento: '),\n",
        "                   float(input('Valor: ')),\n",
        "                   int(input('Numero Serial: ')),\n",
        "                   input('Departamento: ')]\n",
        "    lista.append(equipamento)\n",
        "    resp = input('Digite \\'S\\' para continuar: ').upper()\n",
        "    \n"
      ],
      "metadata": {
        "id": "YEsn47pxXpJa"
      },
      "execution_count": null,
      "outputs": []
    },
    {
      "cell_type": "code",
      "source": [
        "def exibir_inventario(lista):\n",
        " for elemento in lista:\n",
        " print(\"Nome.........: \", elemento[0])\n",
        " print(\"Valor........: \", elemento[1])\n",
        " print(\"Serial.......: \", elemento[2])\n",
        " print(\"Departamento.: \", elemento[3])"
      ],
      "metadata": {
        "id": "6NIp1Yq7ZlBy"
      },
      "execution_count": null,
      "outputs": []
    },
    {
      "cell_type": "code",
      "source": [
        "def localizar_por_nome(lista):\n",
        " busca = input(\"\\nDigite o nome do equipamento que deseja buscar: \")\n",
        " for elemento in lista:\n",
        " if busca == elemento[0]:\n",
        " print(\"Valor..: \", elemento[1])\n",
        " print(\"Serial.:\", elemento[2])\n"
      ],
      "metadata": {
        "id": "Ea2OuuvfZ0yp"
      },
      "execution_count": null,
      "outputs": []
    },
    {
      "cell_type": "code",
      "source": [
        "def depreciar_por_nome(lista, porc):\n",
        "  depreciacao = input('\\nDigite o nome do equipamento que será depreciado: ')\n",
        "  for elemento in lista:\n",
        "    if depreciacao == elemento[0]\n",
        "      print('Valor antigo: ', elemento[1])\n",
        "      elemento[1] = elemento[1] * (1 -porc / 100)\n",
        "      print('Novo valor:',eleent[1])"
      ],
      "metadata": {
        "id": "9rPsshWOZ_vC"
      },
      "execution_count": null,
      "outputs": []
    },
    {
      "cell_type": "code",
      "source": [
        "def excluir_por_serial(lista):\n",
        "  serial = int(input('\\nDigite o serial do equipamento ue será excluido: '))\n",
        "  for elemento in lista:\n",
        "    if elemento[2] == serial:\n",
        "      lista.remove(elemento)\n",
        "      return 'Itens excluídos.'"
      ],
      "metadata": {
        "id": "Jcjwgx9ab29Q"
      },
      "execution_count": null,
      "outputs": []
    },
    {
      "cell_type": "code",
      "source": [
        "def resumir_valores(lista):\n",
        "  valores = []\n",
        "  for elemento in lista:\n",
        "    valores.append(elemento[1])\n",
        "    if len(valores) > 0:\n",
        "      print('O equipamento mais caro custa: ', max(valores))\n",
        "      print('O equipamento mais barato custa: ', min(valores))\n",
        "      print('O total de equipamentos é de: ', sum(valores))\n"
      ],
      "metadata": {
        "id": "0sxJDCvcdFeJ"
      },
      "execution_count": null,
      "outputs": []
    },
    {
      "cell_type": "code",
      "source": [],
      "metadata": {
        "id": "rxhgLaodeNc9"
      },
      "execution_count": null,
      "outputs": []
    }
  ]
}