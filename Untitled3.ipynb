{
  "nbformat": 4,
  "nbformat_minor": 0,
  "metadata": {
    "colab": {
      "provenance": [],
      "authorship_tag": "ABX9TyPd3JWgXHF8ly+3y7fkDwzj",
      "include_colab_link": true
    },
    "kernelspec": {
      "name": "python3",
      "display_name": "Python 3"
    },
    "language_info": {
      "name": "python"
    }
  },
  "cells": [
    {
      "cell_type": "markdown",
      "metadata": {
        "id": "view-in-github",
        "colab_type": "text"
      },
      "source": [
        "<a href=\"https://colab.research.google.com/github/fabiolima8/by-Fabio-Lima-Dev/blob/main/Untitled3.ipynb\" target=\"_parent\"><img src=\"https://colab.research.google.com/assets/colab-badge.svg\" alt=\"Open In Colab\"/></a>"
      ]
    },
    {
      "cell_type": "code",
      "source": [
        "nome = \"Humberto Delgado Martins\"\n",
        "empresa = 'Fiap'\n",
        "qt_funcionarios = 500\n",
        "media_mensalidade = 856.50\n",
        "print(nome, 'trabalha na empresa ', empresa)\n",
        "print('Possui: ', qt_funcionarios,'funcionários')\n",
        "print('A média de mensalidade é de: ', media_mensalidade, 'reais')"
      ],
      "metadata": {
        "colab": {
          "base_uri": "https://localhost:8080/"
        },
        "id": "8lvkMPgqkTH0",
        "outputId": "129b39f6-5439-4ad4-ab36-2de4e26b2ff0"
      },
      "execution_count": 1,
      "outputs": [
        {
          "output_type": "stream",
          "name": "stdout",
          "text": [
            "Humberto Delgado Martins trabalha na empresa  Fiap\n",
            "Possui:  500 funcionários\n",
            "A média de mensalidade é de:  856.5 reais\n"
          ]
        }
      ]
    },
    {
      "cell_type": "code",
      "source": [
        "nome = input('Digite o nome de um funcionário: ')\n",
        "empresa= input('Digite o nome da empresa: ')\n",
        "qt_funcionarios = int(input('Digite o número de funcionários: '))\n",
        "media_mensalidade = float(input('Digite a média da mensalidade: '))\n",
        "print()\n",
        "print(nome, 'trabalha na empresa', empresa,)\n",
        "print('Essa empresa possui', qt_funcionarios, 'funcionários.')\n",
        "print('A média de mensalidade é de: ', media_mensalidade, 'reais.')\n",
        "print('********Verifique os tipos de dados abaixo********')\n",
        "print('O tipo de variável de nome é ', type(nome))\n",
        "print('O tipo de variável dde empresa é ', type(empresa))\n",
        "print('O tipo de variável de qt_funcionarios é ', type(qt_funcionarios))\n",
        "print('O tipo de variável de media_mensalidade é ',type(media_mensalidade))"
      ],
      "metadata": {
        "colab": {
          "base_uri": "https://localhost:8080/"
        },
        "id": "Kgn3RW6Cnkez",
        "outputId": "58cdc379-6474-412f-aeb1-12ba8c251786"
      },
      "execution_count": null,
      "outputs": [
        {
          "output_type": "stream",
          "name": "stdout",
          "text": [
            "Digite o nome de um funcionário: Fabio\n",
            "Digite o nome da empresa: Fiap\n",
            "Digite o número de funcionários: 100\n",
            "Digite a média da mensalidade: 1400\n",
            "\n",
            "Fabio trabalha na empresa Fiap\n",
            "Essa empresa possui 100 funcionários.\n",
            "A média de mensalidade é de:  1400.0 reais.\n",
            "********Verifique os tipos de dados abaixo********\n",
            "O tipo de variável de nome é  <class 'str'>\n",
            "O tipo de variável dde empresa é  <class 'str'>\n",
            "O tipo de variável de qt_funcionarios é  <class 'int'>\n",
            "O tipo de variável de media_mensalidade é  <class 'float'>\n"
          ]
        }
      ]
    },
    {
      "cell_type": "code",
      "source": [
        "responsavel = input('Digite o nome do responsável: ')\n",
        "funcionario = input('Digite o nome do funcionario: ')\n",
        "evento = input('Escreva o nome do evento: ')\n",
        "valor_entrada = input('Digite o valor gasto com a entrada: ')\n",
        "print(f'Declaro para o senhor {responsavel} que o senhor {funcionario} esteve presente no evento {evento} \\nHe gastou o valor de {valor_entrada} reais com a entrada')"
      ],
      "metadata": {
        "colab": {
          "base_uri": "https://localhost:8080/"
        },
        "id": "QrNaqRiurV-P",
        "outputId": "c661facd-943a-4f94-bd9b-5edf936b2dbe"
      },
      "execution_count": null,
      "outputs": [
        {
          "output_type": "stream",
          "name": "stdout",
          "text": [
            "Digite o nome do responsável: Fabio\n",
            "Digite o nome do funcionario: enrique\n",
            "Escreva o nome do evento: Fashion\n",
            "Digite o valor gasto com a entrada: 20\n",
            "Declaro para o senhor Fabio que o senhor enrique esteve presente no evento Fashion \n",
            "e gastou o valor de 20 reais com a entrada\n"
          ]
        }
      ]
    },
    {
      "cell_type": "code",
      "source": [
        "nota = 5\n",
        "if nota >= 6:\n",
        "  print('Parabéns!')\n",
        "elif nota < 6:\n",
        "    print('Recuperação')\n"
      ],
      "metadata": {
        "colab": {
          "base_uri": "https://localhost:8080/"
        },
        "id": "lcjkJB0Ztm90",
        "outputId": "a95c3735-665b-4a6d-99a5-32427a59b1d9"
      },
      "execution_count": null,
      "outputs": [
        {
          "output_type": "stream",
          "name": "stdout",
          "text": [
            "Recuperação\n"
          ]
        }
      ]
    },
    {
      "cell_type": "code",
      "source": [
        "#Decisões\n",
        "nome = input('Digite um nome: ')\n",
        "idade = int(input('Digite sua idade: '))\n",
        "prioridade = 'Não'\n",
        "if idade >= 65:\n",
        "  prioridade = 'Sim'\n",
        "print(f'O paciente {nome} possui atendimento de prioridade? {prioridade}')"
      ],
      "metadata": {
        "colab": {
          "base_uri": "https://localhost:8080/"
        },
        "id": "QBLjru65utbk",
        "outputId": "ed954964-a7a8-419c-cd03-3fec35f14703"
      },
      "execution_count": null,
      "outputs": [
        {
          "output_type": "stream",
          "name": "stdout",
          "text": [
            "Digite um nome: Fabio\n",
            "Digite sua idade: 43\n",
            "O paciente Fabio possui atendimento de prioridade? Não\n"
          ]
        }
      ]
    },
    {
      "cell_type": "code",
      "source": [
        "#Decisões compostas\n",
        "nome = input('Digite o nome: ')\n",
        "idade = int(input(\"Digite a idade: \"))\n",
        "if idade >= 65:\n",
        "  print(f'O paciente {nome} possui atendimento de prioridade!')\n",
        "else:\n",
        "  print(f'O paciente {nome} não possui atendimento de prioridade!')"
      ],
      "metadata": {
        "colab": {
          "base_uri": "https://localhost:8080/"
        },
        "id": "CF9mDlPovths",
        "outputId": "e941ece4-797f-40ce-b084-0b8ec8d5d582"
      },
      "execution_count": null,
      "outputs": [
        {
          "output_type": "stream",
          "name": "stdout",
          "text": [
            "Digite o nome: Fabio\n",
            "Digite a idade: 68\n",
            "O paciente Fabio possui atendimento de prioridade!\n"
          ]
        }
      ]
    },
    {
      "cell_type": "code",
      "source": [
        "nome = input('Digite o nome: ')\n",
        "idade = int(input(\"Digite a idade: \"))\n",
        "doenca_infectocontagiosa = input('Suspeita de doença infecto-contagiosa? ').upper()\n",
        "if idade >= 65:\n",
        "  print(f'O paciente {nome} possui atendimento de prioridade!')\n",
        "elif doenca_infectocontagiosa == 'SIM':\n",
        "  print(f'O paciente {nome} deve ser encaminhado para a sala de espera reservada.')\n",
        "else:\n",
        "  print(f'O paciente {nome} não possui atendimento de prioridade e pode aguardar na sala comum.')"
      ],
      "metadata": {
        "colab": {
          "base_uri": "https://localhost:8080/"
        },
        "id": "8bXR2bH_wo6Z",
        "outputId": "55c92428-9f0b-4fd3-c950-bea5a69af5ca"
      },
      "execution_count": null,
      "outputs": [
        {
          "output_type": "stream",
          "name": "stdout",
          "text": [
            "Digite o nome: Fabio\n",
            "Digite a idade: 40\n",
            "Suspeita de doença infecto-contagiosa?sim\n",
            "O paciente Fabio deve ser encaminhado para a sala de espera reservada.\n"
          ]
        }
      ]
    },
    {
      "cell_type": "code",
      "source": [
        "nome = input('Digite o nome: ')\n",
        "idade = int(input(\"Digite a idade: \"))\n",
        "doenca_infectocontagiosa = input('Suspeita de doença infecto-contagiosa? ').upper()\n",
        "if idade >= 65 and doenca_infectocontagiosa == 'SIM':\n",
        "  print('O paciente será encaminhado para a sala AMARELA - COM prioridade')\n",
        "elif idade < 65 and doenca_infectocontagiosa == 'SIM':\n",
        "  print('O paciente será encaminhado para a sala AMARELA - SEM prioridade')\n",
        "elif idade >= 65 and doenca_infectocontagiosa == 'NÂO':\n",
        "  print('O paciente será encaminhado para a sala BRANCA - SEM prioridade')\n",
        "elif idade < 65 and doenca_infectocontagiosa == \"NÃO\":\n",
        "  print('O paciente será direcionado para a sala BRANCA - SEM prioridade ')\n",
        "else:\n",
        "  print('Responda a suspeita de doença infecto-contagiosa com SIm ou NÃO')\n"
      ],
      "metadata": {
        "colab": {
          "base_uri": "https://localhost:8080/"
        },
        "id": "w-KVy5ePzcsY",
        "outputId": "ba2bc059-df9e-4662-bf7a-55dd9db88215"
      },
      "execution_count": null,
      "outputs": [
        {
          "output_type": "stream",
          "name": "stdout",
          "text": [
            "Digite o nome: Fabio\n",
            "Digite a idade: 778\n",
            "Suspeita de doença infecto-contagiosa? sim\n",
            "O paciente será encaminhado para a sala AMARELA - COM prioridade\n"
          ]
        }
      ]
    },
    {
      "cell_type": "code",
      "source": [
        "#Decisões encadeadas\n"
      ],
      "metadata": {
        "id": "Ay9DQqM22FJe"
      },
      "execution_count": null,
      "outputs": []
    }
  ]
}