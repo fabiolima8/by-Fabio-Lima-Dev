{
  "nbformat": 4,
  "nbformat_minor": 0,
  "metadata": {
    "colab": {
      "provenance": [],
      "authorship_tag": "ABX9TyN1pNU1jecIbMCq/XS+dP20",
      "include_colab_link": true
    },
    "kernelspec": {
      "name": "python3",
      "display_name": "Python 3"
    },
    "language_info": {
      "name": "python"
    }
  },
  "cells": [
    {
      "cell_type": "markdown",
      "metadata": {
        "id": "view-in-github",
        "colab_type": "text"
      },
      "source": [
        "<a href=\"https://colab.research.google.com/github/fabiolima8/by-Fabio-Lima-Dev/blob/main/Untitled3.ipynb\" target=\"_parent\"><img src=\"https://colab.research.google.com/assets/colab-badge.svg\" alt=\"Open In Colab\"/></a>"
      ]
    },
    {
      "cell_type": "code",
      "source": [
        "nome = \"Humberto Delgado Martins\"\n",
        "empresa = 'Fiap'\n",
        "qt_funcionarios = 500\n",
        "media_mensalidade = 856.50\n",
        "print(nome, 'trabalha na empresa ', empresa)\n",
        "print('Possui: ', qt_funcionarios,'funcionários')\n",
        "print('A média de mensalidade é de: ', media_mensalidade, 'reais')"
      ],
      "metadata": {
        "colab": {
          "base_uri": "https://localhost:8080/"
        },
        "id": "8lvkMPgqkTH0",
        "outputId": "129b39f6-5439-4ad4-ab36-2de4e26b2ff0"
      },
      "execution_count": 1,
      "outputs": [
        {
          "output_type": "stream",
          "name": "stdout",
          "text": [
            "Humberto Delgado Martins trabalha na empresa  Fiap\n",
            "Possui:  500 funcionários\n",
            "A média de mensalidade é de:  856.5 reais\n"
          ]
        }
      ]
    },
    {
      "cell_type": "code",
      "source": [
        "nome = input('Digite o nome de um funcionário: ')\n",
        "empresa= input('Digite o nome da empresa: ')\n",
        "qt_funcionarios = int(input('Digite o número de funcionários: '))\n",
        "media_mensalidade = float(input('Digite a média da mensalidade: '))\n",
        "print()\n",
        "print(nome, 'trabalha na empresa', empresa,)\n",
        "print('Essa empresa possui', qt_funcionarios, 'funcionários.')\n",
        "print('A média de mensalidade é de: ', media_mensalidade, 'reais.')\n",
        "print('********Verifique os tipos de dados abaixo********')\n",
        "print('O tipo de variável de nome é ', type(nome))\n",
        "print('O tipo de variável dde empresa é ', type(empresa))\n",
        "print('O tipo de variável de qt_funcionarios é ', type(qt_funcionarios))\n",
        "print('O tipo de variável de media_mensalidade é ',type(media_mensalidade))"
      ],
      "metadata": {
        "colab": {
          "base_uri": "https://localhost:8080/"
        },
        "id": "Kgn3RW6Cnkez",
        "outputId": "58cdc379-6474-412f-aeb1-12ba8c251786"
      },
      "execution_count": null,
      "outputs": [
        {
          "output_type": "stream",
          "name": "stdout",
          "text": [
            "Digite o nome de um funcionário: Fabio\n",
            "Digite o nome da empresa: Fiap\n",
            "Digite o número de funcionários: 100\n",
            "Digite a média da mensalidade: 1400\n",
            "\n",
            "Fabio trabalha na empresa Fiap\n",
            "Essa empresa possui 100 funcionários.\n",
            "A média de mensalidade é de:  1400.0 reais.\n",
            "********Verifique os tipos de dados abaixo********\n",
            "O tipo de variável de nome é  <class 'str'>\n",
            "O tipo de variável dde empresa é  <class 'str'>\n",
            "O tipo de variável de qt_funcionarios é  <class 'int'>\n",
            "O tipo de variável de media_mensalidade é  <class 'float'>\n"
          ]
        }
      ]
    },
    {
      "cell_type": "code",
      "source": [
        "responsavel = input('Digite o nome do responsável: ')\n",
        "funcionario = input('Digite o nome do funcionario: ')\n",
        "evento = input('Escreva o nome do evento: ')\n",
        "valor_entrada = input('Digite o valor gasto com a entrada: ')\n",
        "print(f'Declaro para o senhor {responsavel} que o senhor {funcionario} esteve presente no evento {evento} \\nHe gastou o valor de {valor_entrada} reais com a entrada')"
      ],
      "metadata": {
        "colab": {
          "base_uri": "https://localhost:8080/"
        },
        "id": "QrNaqRiurV-P",
        "outputId": "c661facd-943a-4f94-bd9b-5edf936b2dbe"
      },
      "execution_count": null,
      "outputs": [
        {
          "output_type": "stream",
          "name": "stdout",
          "text": [
            "Digite o nome do responsável: Fabio\n",
            "Digite o nome do funcionario: enrique\n",
            "Escreva o nome do evento: Fashion\n",
            "Digite o valor gasto com a entrada: 20\n",
            "Declaro para o senhor Fabio que o senhor enrique esteve presente no evento Fashion \n",
            "e gastou o valor de 20 reais com a entrada\n"
          ]
        }
      ]
    },
    {
      "cell_type": "code",
      "source": [
        "nota = 5\n",
        "if nota >= 6:\n",
        "  print('Parabéns!')\n",
        "elif nota < 6:\n",
        "    print('Recuperação')\n"
      ],
      "metadata": {
        "colab": {
          "base_uri": "https://localhost:8080/"
        },
        "id": "lcjkJB0Ztm90",
        "outputId": "a95c3735-665b-4a6d-99a5-32427a59b1d9"
      },
      "execution_count": null,
      "outputs": [
        {
          "output_type": "stream",
          "name": "stdout",
          "text": [
            "Recuperação\n"
          ]
        }
      ]
    },
    {
      "cell_type": "code",
      "source": [
        "#Decisões\n",
        "nome = input('Digite um nome: ')\n",
        "idade = int(input('Digite sua idade: '))\n",
        "prioridade = 'Não'\n",
        "if idade >= 65:\n",
        "  prioridade = 'Sim'\n",
        "print(f'O paciente {nome} possui atendimento de prioridade? {prioridade}')"
      ],
      "metadata": {
        "colab": {
          "base_uri": "https://localhost:8080/"
        },
        "id": "QBLjru65utbk",
        "outputId": "ed954964-a7a8-419c-cd03-3fec35f14703"
      },
      "execution_count": null,
      "outputs": [
        {
          "output_type": "stream",
          "name": "stdout",
          "text": [
            "Digite um nome: Fabio\n",
            "Digite sua idade: 43\n",
            "O paciente Fabio possui atendimento de prioridade? Não\n"
          ]
        }
      ]
    },
    {
      "cell_type": "code",
      "source": [
        "#Decisões compostas\n",
        "nome = input('Digite o nome: ')\n",
        "idade = int(input(\"Digite a idade: \"))\n",
        "if idade >= 65:\n",
        "  print(f'O paciente {nome} possui atendimento de prioridade!')\n",
        "else:\n",
        "  print(f'O paciente {nome} não possui atendimento de prioridade!')"
      ],
      "metadata": {
        "colab": {
          "base_uri": "https://localhost:8080/"
        },
        "id": "CF9mDlPovths",
        "outputId": "e941ece4-797f-40ce-b084-0b8ec8d5d582"
      },
      "execution_count": null,
      "outputs": [
        {
          "output_type": "stream",
          "name": "stdout",
          "text": [
            "Digite o nome: Fabio\n",
            "Digite a idade: 68\n",
            "O paciente Fabio possui atendimento de prioridade!\n"
          ]
        }
      ]
    },
    {
      "cell_type": "code",
      "source": [
        "nome = input('Digite o nome: ')\n",
        "idade = int(input(\"Digite a idade: \"))\n",
        "doenca_infectocontagiosa = input('Suspeita de doença infecto-contagiosa? ').upper()\n",
        "if idade >= 65:\n",
        "  print(f'O paciente {nome} possui atendimento de prioridade!')\n",
        "elif doenca_infectocontagiosa == 'SIM':\n",
        "  print(f'O paciente {nome} deve ser encaminhado para a sala de espera reservada.')\n",
        "else:\n",
        "  print(f'O paciente {nome} não possui atendimento de prioridade e pode aguardar na sala comum.')"
      ],
      "metadata": {
        "colab": {
          "base_uri": "https://localhost:8080/"
        },
        "id": "8bXR2bH_wo6Z",
        "outputId": "55c92428-9f0b-4fd3-c950-bea5a69af5ca"
      },
      "execution_count": null,
      "outputs": [
        {
          "output_type": "stream",
          "name": "stdout",
          "text": [
            "Digite o nome: Fabio\n",
            "Digite a idade: 40\n",
            "Suspeita de doença infecto-contagiosa?sim\n",
            "O paciente Fabio deve ser encaminhado para a sala de espera reservada.\n"
          ]
        }
      ]
    },
    {
      "cell_type": "code",
      "source": [
        "nome = input('Digite o nome: ')\n",
        "idade = int(input(\"Digite a idade: \"))\n",
        "doenca_infectocontagiosa = input('Suspeita de doença infecto-contagiosa? ').upper()\n",
        "if idade >= 65 and doenca_infectocontagiosa == 'SIM':\n",
        "  print('O paciente será encaminhado para a sala AMARELA - COM prioridade')\n",
        "elif idade < 65 and doenca_infectocontagiosa == 'SIM':\n",
        "  print('O paciente será encaminhado para a sala AMARELA - SEM prioridade')\n",
        "elif idade >= 65 and doenca_infectocontagiosa == 'NÂO':\n",
        "  print('O paciente será encaminhado para a sala BRANCA - SEM prioridade')\n",
        "elif idade < 65 and doenca_infectocontagiosa == \"NÃO\":\n",
        "  print('O paciente será direcionado para a sala BRANCA - SEM prioridade ')\n",
        "else:\n",
        "  print('Responda a suspeita de doença infecto-contagiosa com SIm ou NÃO')\n"
      ],
      "metadata": {
        "colab": {
          "base_uri": "https://localhost:8080/"
        },
        "id": "w-KVy5ePzcsY",
        "outputId": "ba2bc059-df9e-4662-bf7a-55dd9db88215"
      },
      "execution_count": null,
      "outputs": [
        {
          "output_type": "stream",
          "name": "stdout",
          "text": [
            "Digite o nome: Fabio\n",
            "Digite a idade: 778\n",
            "Suspeita de doença infecto-contagiosa? sim\n",
            "O paciente será encaminhado para a sala AMARELA - COM prioridade\n"
          ]
        }
      ]
    },
    {
      "cell_type": "code",
      "source": [
        "#Decisões encadeadas\n",
        "nome = input('Digite o nome: ')\n",
        "idade = int(input(\"Digite a idade: \"))\n",
        "doenca_infectocontagiosa = input('Suspeita de doença infecto-contagiosa? ').upper()\n",
        "if idade >= 65:\n",
        "  print('Paciente COM prioridade')\n",
        "  if doenca_infectocontagiosa == \"SIM\":\n",
        "    print('Encaminhe o paciente para  a sala AMARELA')\n",
        "  elif doenca_infectocontagiosa == \"NÃo\":\n",
        "    print('Encaminhe o paciente para a sala BRANCA')\n",
        "  else:\n",
        "    print('Responda a suspeita de doença infectocontagiosa com SIM ou NÃO')\n",
        "else:\n",
        "  print('Paciente SEM prioridade')\n",
        "  if doenca_infectocontagiosa == 'SIM':\n",
        "    print('Encaminhe o paciente para a sala AMARELA')\n",
        "  elif doenca_infectocontagiosa == 'NÃO':\n",
        "    print('Encaminhe o paciente para a sala BRANCA')\n",
        "  else:\n",
        "    print('Responda a suspeita de doenca infectocontagiosa com SIM ou NÃO')\n",
        "\n"
      ],
      "metadata": {
        "id": "Ay9DQqM22FJe",
        "colab": {
          "base_uri": "https://localhost:8080/"
        },
        "outputId": "0f270d7f-fe7c-43ad-bb1a-79b3a6a0d789"
      },
      "execution_count": 3,
      "outputs": [
        {
          "output_type": "stream",
          "name": "stdout",
          "text": [
            "Digite o nome: Fabio\n",
            "Digite a idade: 66\n",
            "Suspeita de doença infecto-contagiosa? SIM\n",
            "Paciente COM prioridade\n",
            "Encaminhe o paciente para  a sala AMARELA\n"
          ]
        }
      ]
    },
    {
      "cell_type": "code",
      "source": [
        "#Decisão encadeada 2\n",
        "nome = input('Digite o nome: ')\n",
        "idade = int(input(\"Digite a idade: \"))\n",
        "doenca_infectocontagiosa = input('Suspeita de doença infecto-contagiosa? ').upper()\n",
        "\n",
        "#Primeiro problema a ser resolvido:\n",
        "if doenca_infectocontagiosa == 'SIM':\n",
        "  print('Encaminhe o paciente para a sala AMARELA')\n",
        "elif doenca_infectocontagiosa == 'NÃO':\n",
        "  print('Encaminhe o paciente para a sala BRANCA')\n",
        "else:\n",
        "  print('Responda a suspeita de doença infectocontagiosa com SIM ou NÃO')\n",
        "\n",
        "#Segundo problema a ser resolvido:\n",
        "if idade >= 65:\n",
        "  print('Paciente com prioridade')\n",
        "else:\n",
        "  genero = input('Digite o gênero do paciente: ').upper()\n",
        "  if genero == 'FEMININO'and idade > 10:\n",
        "    gravidez = input('A paciente está grávida? ').upper()\n",
        "    if gravidez == 'SIM':\n",
        "      print('Paciente COM prioridade')\n",
        "    else:\n",
        "      print('Paciente SEM prioridade')\n",
        "  print('Paciente SEM prioridade')    "
      ],
      "metadata": {
        "id": "fFJKSUaBl_VB",
        "outputId": "3707b434-e2fe-4db9-c234-47fced722218",
        "colab": {
          "base_uri": "https://localhost:8080/"
        }
      },
      "execution_count": 4,
      "outputs": [
        {
          "output_type": "stream",
          "name": "stdout",
          "text": [
            "Digite o nome: Fabio\n",
            "Digite a idade: 66\n",
            "Suspeita de doença infecto-contagiosa? SIM\n",
            "Encaminhe o paciente para a sala AMARELA\n",
            "Paciente com prioridade\n"
          ]
        }
      ]
    },
    {
      "cell_type": "code",
      "source": [
        "nivel = input('Digite o nível de acesso: ').upper()\n",
        "if nivel == 'ADM' or nivel == 'USR':\n",
        "  genero = input('Digite o seu gênero: ').upper()\n",
        "  if nivel == 'ADM':\n",
        "    if genero == 'FEMININO':\n",
        "      print('Olá administradora')\n",
        "    else:\n",
        "      print('Olá administrador')\n",
        "  else:\n",
        "    if genero == 'FEMININO':\n",
        "      print('Olá usuária')\n",
        "    else:\n",
        "      print('Olá usuário')\n",
        "elif nivel == 'GUEST':\n",
        "  print('Olá visitante')\n",
        "else:\n",
        "  print('Olá desconhecido (a)')\n"
      ],
      "metadata": {
        "id": "iVrCoqkboMPv",
        "outputId": "e76aa7ad-1802-4d98-81fd-f8d8558e3886",
        "colab": {
          "base_uri": "https://localhost:8080/"
        }
      },
      "execution_count": 5,
      "outputs": [
        {
          "output_type": "stream",
          "name": "stdout",
          "text": [
            "Digite o nível de acesso: ADM\n",
            "Digite o seu gênero: mASCULINO\n",
            "Olá administrador\n"
          ]
        }
      ]
    },
    {
      "cell_type": "code",
      "source": [
        "#Laços de repetição:\n",
        "numero = int(input('Digite um número: '))\n",
        "while numero < 100:\n",
        "  print('\\t' + str(numero))\n",
        "  numero = numero + 1\n",
        "print('Laço encerrado...')"
      ],
      "metadata": {
        "id": "I4t9msTYqkRL",
        "outputId": "27824a54-0c7d-4cfd-d866-3f21e00c8b43",
        "colab": {
          "base_uri": "https://localhost:8080/"
        }
      },
      "execution_count": 9,
      "outputs": [
        {
          "output_type": "stream",
          "name": "stdout",
          "text": [
            "Digite um número: 1\n",
            "\t1\n",
            "\t2\n",
            "\t3\n",
            "\t4\n",
            "\t5\n",
            "\t6\n",
            "\t7\n",
            "\t8\n",
            "\t9\n",
            "\t10\n",
            "\t11\n",
            "\t12\n",
            "\t13\n",
            "\t14\n",
            "\t15\n",
            "\t16\n",
            "\t17\n",
            "\t18\n",
            "\t19\n",
            "\t20\n",
            "\t21\n",
            "\t22\n",
            "\t23\n",
            "\t24\n",
            "\t25\n",
            "\t26\n",
            "\t27\n",
            "\t28\n",
            "\t29\n",
            "\t30\n",
            "\t31\n",
            "\t32\n",
            "\t33\n",
            "\t34\n",
            "\t35\n",
            "\t36\n",
            "\t37\n",
            "\t38\n",
            "\t39\n",
            "\t40\n",
            "\t41\n",
            "\t42\n",
            "\t43\n",
            "\t44\n",
            "\t45\n",
            "\t46\n",
            "\t47\n",
            "\t48\n",
            "\t49\n",
            "\t50\n",
            "\t51\n",
            "\t52\n",
            "\t53\n",
            "\t54\n",
            "\t55\n",
            "\t56\n",
            "\t57\n",
            "\t58\n",
            "\t59\n",
            "\t60\n",
            "\t61\n",
            "\t62\n",
            "\t63\n",
            "\t64\n",
            "\t65\n",
            "\t66\n",
            "\t67\n",
            "\t68\n",
            "\t69\n",
            "\t70\n",
            "\t71\n",
            "\t72\n",
            "\t73\n",
            "\t74\n",
            "\t75\n",
            "\t76\n",
            "\t77\n",
            "\t78\n",
            "\t79\n",
            "\t80\n",
            "\t81\n",
            "\t82\n",
            "\t83\n",
            "\t84\n",
            "\t85\n",
            "\t86\n",
            "\t87\n",
            "\t88\n",
            "\t89\n",
            "\t90\n",
            "\t91\n",
            "\t92\n",
            "\t93\n",
            "\t94\n",
            "\t95\n",
            "\t96\n",
            "\t97\n",
            "\t98\n",
            "\t99\n",
            "Laço encerrado...\n"
          ]
        }
      ]
    },
    {
      "cell_type": "code",
      "source": [
        "resposta = 'SIM'\n",
        "while resposta == 'SIM':\n",
        "  nivel = input('Digite o nivel de acesso: ').upper()\n",
        "  if nivel == 'ADM':\n",
        "    if genero == 'FEMININO':\n",
        "      print('Olá administradora')\n",
        "    else:\n",
        "      print('Olá administrador')\n",
        "  else:\n",
        "      if genero == 'FEMININO':\n",
        "        print('Olá usuária')\n",
        "      else:\n",
        "        print('Olá usuário')\n",
        " \n",
        "\n",
        "\n"
      ],
      "metadata": {
        "id": "EtDfs_FPufFq",
        "outputId": "a5c0a263-4e34-4a60-8342-0d520c8ef892",
        "colab": {
          "base_uri": "https://localhost:8080/",
          "height": 380
        }
      },
      "execution_count": 44,
      "outputs": [
        {
          "output_type": "error",
          "ename": "KeyboardInterrupt",
          "evalue": "ignored",
          "traceback": [
            "\u001b[0;31m---------------------------------------------------------------------------\u001b[0m",
            "\u001b[0;31mKeyboardInterrupt\u001b[0m                         Traceback (most recent call last)",
            "\u001b[0;32m<ipython-input-44-2d41038d2126>\u001b[0m in \u001b[0;36m<module>\u001b[0;34m\u001b[0m\n\u001b[1;32m      1\u001b[0m \u001b[0mresposta\u001b[0m \u001b[0;34m=\u001b[0m \u001b[0;34m'SIM'\u001b[0m\u001b[0;34m\u001b[0m\u001b[0;34m\u001b[0m\u001b[0m\n\u001b[1;32m      2\u001b[0m \u001b[0;32mwhile\u001b[0m \u001b[0mresposta\u001b[0m \u001b[0;34m==\u001b[0m \u001b[0;34m'SIM'\u001b[0m\u001b[0;34m:\u001b[0m\u001b[0;34m\u001b[0m\u001b[0;34m\u001b[0m\u001b[0m\n\u001b[0;32m----> 3\u001b[0;31m   \u001b[0mnivel\u001b[0m \u001b[0;34m=\u001b[0m \u001b[0minput\u001b[0m\u001b[0;34m(\u001b[0m\u001b[0;34m'Digite o nivel de acesso: '\u001b[0m\u001b[0;34m)\u001b[0m\u001b[0;34m.\u001b[0m\u001b[0mupper\u001b[0m\u001b[0;34m(\u001b[0m\u001b[0;34m)\u001b[0m\u001b[0;34m\u001b[0m\u001b[0;34m\u001b[0m\u001b[0m\n\u001b[0m\u001b[1;32m      4\u001b[0m   \u001b[0;32mif\u001b[0m \u001b[0mnivel\u001b[0m \u001b[0;34m==\u001b[0m \u001b[0;34m'ADM'\u001b[0m\u001b[0;34m:\u001b[0m\u001b[0;34m\u001b[0m\u001b[0;34m\u001b[0m\u001b[0m\n\u001b[1;32m      5\u001b[0m     \u001b[0;32mif\u001b[0m \u001b[0mgenero\u001b[0m \u001b[0;34m==\u001b[0m \u001b[0;34m'FEMININO'\u001b[0m\u001b[0;34m:\u001b[0m\u001b[0;34m\u001b[0m\u001b[0;34m\u001b[0m\u001b[0m\n",
            "\u001b[0;32m/usr/local/lib/python3.8/dist-packages/ipykernel/kernelbase.py\u001b[0m in \u001b[0;36mraw_input\u001b[0;34m(self, prompt)\u001b[0m\n\u001b[1;32m    858\u001b[0m                 \u001b[0;34m\"raw_input was called, but this frontend does not support input requests.\"\u001b[0m\u001b[0;34m\u001b[0m\u001b[0;34m\u001b[0m\u001b[0m\n\u001b[1;32m    859\u001b[0m             )\n\u001b[0;32m--> 860\u001b[0;31m         return self._input_request(str(prompt),\n\u001b[0m\u001b[1;32m    861\u001b[0m             \u001b[0mself\u001b[0m\u001b[0;34m.\u001b[0m\u001b[0m_parent_ident\u001b[0m\u001b[0;34m,\u001b[0m\u001b[0;34m\u001b[0m\u001b[0;34m\u001b[0m\u001b[0m\n\u001b[1;32m    862\u001b[0m             \u001b[0mself\u001b[0m\u001b[0;34m.\u001b[0m\u001b[0m_parent_header\u001b[0m\u001b[0;34m,\u001b[0m\u001b[0;34m\u001b[0m\u001b[0;34m\u001b[0m\u001b[0m\n",
            "\u001b[0;32m/usr/local/lib/python3.8/dist-packages/ipykernel/kernelbase.py\u001b[0m in \u001b[0;36m_input_request\u001b[0;34m(self, prompt, ident, parent, password)\u001b[0m\n\u001b[1;32m    902\u001b[0m             \u001b[0;32mexcept\u001b[0m \u001b[0mKeyboardInterrupt\u001b[0m\u001b[0;34m:\u001b[0m\u001b[0;34m\u001b[0m\u001b[0;34m\u001b[0m\u001b[0m\n\u001b[1;32m    903\u001b[0m                 \u001b[0;31m# re-raise KeyboardInterrupt, to truncate traceback\u001b[0m\u001b[0;34m\u001b[0m\u001b[0;34m\u001b[0m\u001b[0;34m\u001b[0m\u001b[0m\n\u001b[0;32m--> 904\u001b[0;31m                 \u001b[0;32mraise\u001b[0m \u001b[0mKeyboardInterrupt\u001b[0m\u001b[0;34m(\u001b[0m\u001b[0;34m\"Interrupted by user\"\u001b[0m\u001b[0;34m)\u001b[0m \u001b[0;32mfrom\u001b[0m \u001b[0;32mNone\u001b[0m\u001b[0;34m\u001b[0m\u001b[0;34m\u001b[0m\u001b[0m\n\u001b[0m\u001b[1;32m    905\u001b[0m             \u001b[0;32mexcept\u001b[0m \u001b[0mException\u001b[0m \u001b[0;32mas\u001b[0m \u001b[0me\u001b[0m\u001b[0;34m:\u001b[0m\u001b[0;34m\u001b[0m\u001b[0;34m\u001b[0m\u001b[0m\n\u001b[1;32m    906\u001b[0m                 \u001b[0mself\u001b[0m\u001b[0;34m.\u001b[0m\u001b[0mlog\u001b[0m\u001b[0;34m.\u001b[0m\u001b[0mwarning\u001b[0m\u001b[0;34m(\u001b[0m\u001b[0;34m\"Invalid Message:\"\u001b[0m\u001b[0;34m,\u001b[0m \u001b[0mexc_info\u001b[0m\u001b[0;34m=\u001b[0m\u001b[0;32mTrue\u001b[0m\u001b[0;34m)\u001b[0m\u001b[0;34m\u001b[0m\u001b[0;34m\u001b[0m\u001b[0m\n",
            "\u001b[0;31mKeyboardInterrupt\u001b[0m: Interrupted by user"
          ]
        }
      ]
    },
    {
      "cell_type": "code",
      "source": [
        "nome =  input('Digite o nome: ')\n",
        "idade = int(input('Digite a idade: '))\n",
        "doenca_infectocontagiosa = input('Suspeita de doença infectocontagiosa? ').upper()\n",
        "#Primeiro problema a ser resolvido\n",
        "while doenca_infectocontagiosa != 'SIM' and doenca_infectocontagiosa != 'NÃO':\n",
        "  print('Digite SIM ou NÃO')\n",
        "  doenca_infectocontagiosa = input('Suspeito de doença infectocontagiosa? ').upper()\n",
        "\n",
        "if doenca_infectocontagiosa == \"SIM\":\n",
        "  print('Encaminhe o paciente para a sala amarela')\n",
        "else:\n",
        "  print('Encaminhe o paciente para a sala branca')\n",
        "\n",
        "#Segundo problema a ser resolvido\n",
        "if idade >= 65:\n",
        "  print('Paciente COM prioridade')\n",
        "else:\n",
        "  genero = input('Digite gênero do paciente: ').upper()\n",
        "  if genero == 'FEMININO' and idade > 10:\n",
        "    gravidez = input('A paciente está grávida? ').upper()\n",
        "    if gravidez == 'SIM':\n",
        "      print('Paciente COM prioridade')\n",
        "    else:\n",
        "      print('Paciente SEM prioridade')\n",
        "  else:\n",
        "    print('Paciente SEM prioridade')  "
      ],
      "metadata": {
        "id": "vbQmBUZQ3MAw",
        "outputId": "5c99c795-3d26-4dc4-8234-1ce3f5bc2833",
        "colab": {
          "base_uri": "https://localhost:8080/"
        }
      },
      "execution_count": 45,
      "outputs": [
        {
          "output_type": "stream",
          "name": "stdout",
          "text": [
            "Digite o nome: Fabio\n",
            "Digite a idade: 45\n",
            "Suspeita de doença infectocontagiosa? SIM\n",
            "Encaminhe o paciente para a sala amarela\n",
            "Digite gênero do paciente: Masculino\n",
            "Paciente SEM prioridade\n"
          ]
        }
      ]
    },
    {
      "cell_type": "code",
      "source": [
        "#Comando for\n",
        "for numero in range(2, int(input('Digite o número para determinar o fim: ')), 2):\n",
        "  print('\\t' + str(numero))\n"
      ],
      "metadata": {
        "id": "bBz0letlxmaL",
        "outputId": "b1614046-b410-4212-c539-9e185cd778f3",
        "colab": {
          "base_uri": "https://localhost:8080/"
        }
      },
      "execution_count": 4,
      "outputs": [
        {
          "output_type": "stream",
          "name": "stdout",
          "text": [
            "Digite o número para determinar o fim: 10\n",
            "\t2\n",
            "\t4\n",
            "\t6\n",
            "\t8\n"
          ]
        }
      ]
    },
    {
      "cell_type": "code",
      "source": [
        "tabuada = int(input('Digite o número para exibir a tabuada: '))\n",
        "print(\"Tabuada do número \", tabuada)\n",
        "for valor in range(1, 11, 1):\n",
        "  print(str(tabuada) + '+' + str(valor) + '=' + str(tabuada + valor))"
      ],
      "metadata": {
        "id": "UVxwawgz0DWR",
        "outputId": "366dbd1b-ae93-4c8b-9be3-6f9b231c06ae",
        "colab": {
          "base_uri": "https://localhost:8080/"
        }
      },
      "execution_count": 7,
      "outputs": [
        {
          "output_type": "stream",
          "name": "stdout",
          "text": [
            "Digite o número para exibir a tabuada: 1\n",
            "Tabuada do número  1\n",
            "1+1=2\n",
            "1+2=3\n",
            "1+3=4\n",
            "1+4=5\n",
            "1+5=6\n",
            "1+6=7\n",
            "1+7=8\n",
            "1+8=9\n",
            "1+9=10\n",
            "1+10=11\n"
          ]
        }
      ]
    },
    {
      "cell_type": "code",
      "source": [
        "numero = int(input('Digite o número para exibir a tabuada: '))\n",
        "print('Tabuada do número ', numero)\n",
        "for i in range(1, 11, 1):\n",
        "  print(f'{numero} + {i} = {numero + i}')"
      ],
      "metadata": {
        "id": "aLLAVHKi3v4E",
        "outputId": "ba738ca8-c72b-4df1-a33e-7566565f456b",
        "colab": {
          "base_uri": "https://localhost:8080/"
        }
      },
      "execution_count": 13,
      "outputs": [
        {
          "output_type": "stream",
          "name": "stdout",
          "text": [
            "Digite o número para exibir a tabuada: 1\n",
            "Tabuada do número  1\n",
            "1 + 1 = 2\n",
            "1 + 2 = 3\n",
            "1 + 3 = 4\n",
            "1 + 4 = 5\n",
            "1 + 5 = 6\n",
            "1 + 6 = 7\n",
            "1 + 7 = 8\n",
            "1 + 8 = 9\n",
            "1 + 9 = 10\n",
            "1 + 10 = 11\n"
          ]
        }
      ]
    }
  ]
}